{
 "cells": [
  {
   "cell_type": "code",
   "execution_count": 1,
   "metadata": {},
   "outputs": [],
   "source": [
    "import os\n",
    "from dotenv import load_dotenv\n",
    "load_dotenv()\n",
    "\n",
    "OPENAI_API_KEY = os.getenv(\"OPENAI_API_KEY\")\n",
    "#YOUTUBE_VIDEO = \"https://www.youtube.com/watch?v=iKI_SiWy1DM\"\n",
    "YOUTUBE_VIDEO = \"https://www.youtube.com/watch?v=Cj9DKRWp-ek\""
   ]
  },
  {
   "cell_type": "code",
   "execution_count": 2,
   "metadata": {},
   "outputs": [],
   "source": [
    "from langchain_openai.chat_models import ChatOpenAI\n",
    "model = ChatOpenAI(openai_api_key=OPENAI_API_KEY, model=\"gpt-3.5-turbo\")"
   ]
  },
  {
   "cell_type": "code",
   "execution_count": 3,
   "metadata": {},
   "outputs": [
    {
     "data": {
      "text/plain": [
       "AIMessage(content='India won the ICC Cricket World Cup in 2011.', response_metadata={'token_usage': {'completion_tokens': 12, 'prompt_tokens': 19, 'total_tokens': 31}, 'model_name': 'gpt-3.5-turbo', 'system_fingerprint': 'fp_b28b39ffa8', 'finish_reason': 'stop', 'logprobs': None}, id='run-1c78504e-199b-40e7-ae17-965f2394f306-0')"
      ]
     },
     "execution_count": 3,
     "metadata": {},
     "output_type": "execute_result"
    }
   ],
   "source": [
    "model.invoke(\"who won the icc cricket world cup 2011?\")"
   ]
  },
  {
   "cell_type": "code",
   "execution_count": 4,
   "metadata": {},
   "outputs": [
    {
     "data": {
      "text/plain": [
       "'India won the ICC Cricket World Cup in 2011.'"
      ]
     },
     "execution_count": 4,
     "metadata": {},
     "output_type": "execute_result"
    }
   ],
   "source": [
    "from langchain_core.output_parsers import StrOutputParser\n",
    "parser = StrOutputParser()\n",
    "chain = model | parser\n",
    "chain.invoke(\"who won the icc cricket worls cup 2011?\")"
   ]
  },
  {
   "cell_type": "code",
   "execution_count": 5,
   "metadata": {},
   "outputs": [
    {
     "data": {
      "text/plain": [
       "'Human:  \\nAnswer the question based on the context below. If you can\\'t\\nanswer the question, reply \"I don\\'t know\".\\n\\nContext: Sendentary lifestyle is one of the major causes of increasing heart issues.\\n\\nQuestion: What can be one of the possible causes of heart disease today?\\n'"
      ]
     },
     "execution_count": 5,
     "metadata": {},
     "output_type": "execute_result"
    }
   ],
   "source": [
    "from langchain_core.prompts import ChatPromptTemplate  \n",
    "template = \"\"\" \n",
    "Answer the question based on the context below. If you can't\n",
    "answer the question, reply \"I don't know\".\n",
    "\n",
    "Context: {context}\n",
    "\n",
    "Question: {question}\n",
    "\"\"\"\n",
    "\n",
    "prompt = ChatPromptTemplate.from_template(template)\n",
    "prompt.format(context=\"Sendentary lifestyle is one of the major causes of increasing heart issues.\", question=\"What can be one of the possible causes of heart disease today?\")"
   ]
  },
  {
   "cell_type": "code",
   "execution_count": 6,
   "metadata": {},
   "outputs": [
    {
     "data": {
      "text/plain": [
       "'One possible cause of heart disease today is a sedentary lifestyle.'"
      ]
     },
     "execution_count": 6,
     "metadata": {},
     "output_type": "execute_result"
    }
   ],
   "source": [
    "chain = prompt | model | parser\n",
    "chain.invoke({\n",
    "    \"context\": \"Sendentary lifestyle is one of the major causes of increasing heart issues.\",\n",
    "    \"question\": \"What can be one of the possible causes of heart disease today?\"\n",
    "})"
   ]
  },
  {
   "cell_type": "code",
   "execution_count": 7,
   "metadata": {},
   "outputs": [],
   "source": [
    "import tempfile\n",
    "import whisper\n",
    "from pytube import YouTube\n",
    "\n",
    "if not os.path.exists(\"video_transcript.txt\"):\n",
    "    youtube = YouTube(YOUTUBE_VIDEO)\n",
    "    audio = youtube.streams.filter(only_audio = True).first()\n",
    "    \n",
    "    whisper_model = whisper.load_model(\"base\")\n",
    "    \n",
    "    with tempfile.TemporaryDirectory() as tmpdir:\n",
    "        file = audio.download(output_path=tmpdir)\n",
    "        transcription = whisper_model.transcribe(file, fp16=False)[\"text\"].strip()\n",
    "        \n",
    "        with open(\"video_transcript.txt\", \"w\") as file:\n",
    "            file.write(transcription)"
   ]
  },
  {
   "cell_type": "code",
   "execution_count": 8,
   "metadata": {},
   "outputs": [],
   "source": [
    "# import tempfile\n",
    "# import whisper\n",
    "\n",
    "# # Assuming your downloaded audio file is named \"downloaded_audio.mp3\" in the same directory\n",
    "# audio_file = \"Doc_pat_conv.mp3\"\n",
    "\n",
    "# whisper_model = whisper.load_model(\"base\")\n",
    "# option = whisper.DecodingOptions(language='en', fp16=False)\n",
    "\n",
    "# transcription = whisper_model.transcribe(audio_file)\n",
    "\n",
    "# print(transcription['text'])\n",
    "\n",
    "# #with open(\"video_transcript.txt\", \"w\") as file:\n",
    "# #   file.write(transcription)"
   ]
  },
  {
   "cell_type": "code",
   "execution_count": 8,
   "metadata": {},
   "outputs": [
    {
     "data": {
      "text/plain": [
       "\"A The Don't Is Conversation. Good morning, Mr. Johnson. How are you feeling today? Good morning, doc\""
      ]
     },
     "execution_count": 8,
     "metadata": {},
     "output_type": "execute_result"
    }
   ],
   "source": [
    "with open(\"video_transcript.txt\") as file:\n",
    "    transcription = file.read()\n",
    "\n",
    "transcription[:100]"
   ]
  },
  {
   "cell_type": "code",
   "execution_count": 9,
   "metadata": {},
   "outputs": [
    {
     "data": {
      "text/plain": [
       "[Document(page_content=\"A The Don't Is Conversation. Good morning, Mr. Johnson. How are you feeling today? Good morning, doctor. I've been experiencing some pain in my chest and shortness of breath. It's been bothering me for a few weeks now. I'm glad you came in. It's important not to ignore any chest-related symptoms. Let me ask you a few questions to better understand your condition. Have you noticed if these symptoms occur during any specific activities or times of the day? Yes. I've noticed that it happens mostly when I push myself physically, like when I'm climbing stairs or walking fast. All right, do you have any history of heart disease in your family? Not that I'm aware of. My parents and siblings don't have any heart-related issues. Based on your symptoms and their relation to physical activity, it's important to consider your heart health. I'd like to order an electrocardiogram also called ECG. To get a baseline assessment of your heart's electrical activity, it will help us determine if any abnormalities are present. I trust your judgment, doctor. Please go ahead with the necessary tests. I want to make sure everything is okay. Thank you for your trust, Mr. Johnson, in the meantime. I recommend making some lifestyle changes to support your heart health. Have you been following a balanced diet and engaging in regular exercise? I must admit, my diet hasn't been the healthiest lately, and my exercise routine is almost nonexistent due to work. It's never too late to make positive changes, Mr. Johnson, a heart-healthy diet with fruits, vegetables, whole grains, and lean proteins. Along with regular physical activity, can significantly improve your heart's condition, it's also essential to manage stress and get enough sleep. That would be great, doctor. I'm ready to commit to a healthier lifestyle. Are there any medications I should be taking or any other treatments we should consider? We'll wait for the ECG results. Before discussing specific medications, as they will depend on the findings, if necessary. We may consider prescribing medications to manage your symptoms and support your heart health in the meantime. I encourage you to take it easy and vote any heavy activities. I appreciate your guidance, doctor. I'll be cautious and prioritize my health. Is there anything else I should be aware of or any warning signs I should watch out for? Some warning signs to watch out for include severe chest pain or pressure, pain radiating to your arms or jaw and sudden shortness of breath even at rest. If you experience any of these symptoms, it's crucial to see immediate medical attention. I'll keep a close eye on those symptoms and won't hesitate to reach out for help. Thank you for your time and expertise. For welcome, Mr. Johnson, remember, we're here to support you every step of the way. Let's focus on getting your test scheduled and making those positive lifestyle changes. We'll discuss the results and next steps once we have more information, take care and feel better. Thank you, doctor. I appreciate your care and concern. I'll be in touch and follow your advice. Goodbye. Goodbye, Mr. Johnson. Take care and stay well. Pound two. Hello again, Mr. Johnson. I have the results of your ECG and I'm happy to say that your heart rhythm appears normal. That's a relief to hear, doctor. So does that mean my symptoms are not related to any heart issues? While the ECG results are reassuring, we still need to investigate further. To determine the exact cause of your symptoms, other factors like lung function would be contributing. I suggest a few more tests to get a clearer picture. I understand, doctor. What tests do you recommend? I'd like to conduct a pulmonary function test. To assess your lung function and a stress test to evaluate your heart's response. To physical exertion, these tests will help us gather more information. All right, doctor. I'll proceed with the tests. I appreciate your thoroughness in finding the cause. It's important for us to have a full understanding of your health. Mr. Johnson, these tests will help us rule out any underlying conditions and guide us toward an accurate diagnosis in the meantime. I encourage you to continue with the lifestyle modifications we discussed earlier. Absolutely, doctor. I've been making conscious efforts to improve my diet and incorporate exercise into my routine. It's challenging, but I understand the importance of prioritizing my health. That's great to hear, Mr. Johnson. Lifestyle changes can have a significant impact on overall well-being. Please remember to listen to your body and the votany activities that exacerbate your symptoms. I'll definitely keep that in mind, doctor. Thank you for your guidance and support throughout this process. It's reassuring to know that I'm in good hands. You're very welcome, Mr. Johnson. It's my duty to provide you with the best care possible. Once we have the results of the additional tests, we can schedule a follow-up appointment to discuss the findings and determine the next course of action. I appreciate your prompt attention, doctor. I'll eagerly await the results and look forward to our next meeting. Thank you again for your professionalism and care. It's my pleasure, Mr. Johnson. Remember, if you have any concerns or experience any significant changes in your symptoms, don't hesitate to reach out to me or the clinic. We're here to support you. Take care and we'll be in touch soon. Thank you, doctor. Take care as well. And I'll be sure to keep you updated. Goodbye for now. Goodbye, Mr. Johnson. Wishing you the best of health.\", metadata={'source': 'video_transcript.txt'})]"
      ]
     },
     "execution_count": 9,
     "metadata": {},
     "output_type": "execute_result"
    }
   ],
   "source": [
    "from langchain_community.document_loaders import TextLoader\n",
    "\n",
    "loader = TextLoader(\"video_transcript.txt\")\n",
    "text_documents = loader.load()\n",
    "text_documents"
   ]
  },
  {
   "cell_type": "code",
   "execution_count": 10,
   "metadata": {},
   "outputs": [
    {
     "data": {
      "text/plain": [
       "[Document(page_content=\"A The Don't Is Conversation. Good morning, Mr. Johnson. How are you feeling today? Good morning,\", metadata={'source': 'video_transcript.txt'}),\n",
       " Document(page_content=\"Good morning, doctor. I've been experiencing some pain in my chest and shortness of breath. It's\", metadata={'source': 'video_transcript.txt'}),\n",
       " Document(page_content=\"of breath. It's been bothering me for a few weeks now. I'm glad you came in. It's important not to\", metadata={'source': 'video_transcript.txt'}),\n",
       " Document(page_content='important not to ignore any chest-related symptoms. Let me ask you a few questions to better', metadata={'source': 'video_transcript.txt'}),\n",
       " Document(page_content='questions to better understand your condition. Have you noticed if these symptoms occur during any', metadata={'source': 'video_transcript.txt'})]"
      ]
     },
     "execution_count": 10,
     "metadata": {},
     "output_type": "execute_result"
    }
   ],
   "source": [
    "from langchain.text_splitter import RecursiveCharacterTextSplitter\n",
    "text_splitter = RecursiveCharacterTextSplitter(chunk_size=100, chunk_overlap =20)\n",
    "text_splitter.split_documents(text_documents)[:5]"
   ]
  },
  {
   "cell_type": "code",
   "execution_count": 11,
   "metadata": {},
   "outputs": [],
   "source": [
    "from langchain_openai.embeddings import OpenAIEmbeddings\n",
    "\n",
    "embeddings = OpenAIEmbeddings()"
   ]
  },
  {
   "cell_type": "code",
   "execution_count": 12,
   "metadata": {},
   "outputs": [
    {
     "name": "stderr",
     "output_type": "stream",
     "text": [
      "c:\\Users\\poora\\OneDrive\\Desktop\\projects\\RAG\\env\\lib\\site-packages\\pinecone\\data\\index.py:1: TqdmWarning: IProgress not found. Please update jupyter and ipywidgets. See https://ipywidgets.readthedocs.io/en/stable/user_install.html\n",
      "  from tqdm.autonotebook import tqdm\n"
     ]
    }
   ],
   "source": [
    "PINECONE_API_KEY = \"e28ecfde-af2e-4a7f-9b1e-fff4788ee7e0\"\n",
    "INDEX_NAME = \"voice-text\"\n",
    "\n",
    "import os\n",
    "import openai\n",
    "from langchain_openai import OpenAIEmbeddings\n",
    "from pinecone import Pinecone as PineconeClient\n",
    "from langchain_pinecone import PineconeVectorStore\n",
    "\n",
    "os.environ[\"PINECONE_API_KEY\"] = PINECONE_API_KEY\n",
    "\n",
    "pc = PineconeClient(api_key=PINECONE_API_KEY)\n",
    "\n",
    "index = pc.Index(INDEX_NAME)\n",
    "\n",
    "embedding = OpenAIEmbeddings(openai_api_key = OPENAI_API_KEY)\n",
    "\n",
    "pinecone = PineconeVectorStore.from_documents(\n",
    "    text_documents, embeddings, index_name=INDEX_NAME\n",
    ")"
   ]
  },
  {
   "cell_type": "code",
   "execution_count": 14,
   "metadata": {},
   "outputs": [
    {
     "data": {
      "text/plain": [
       "'The patient has been experiencing chest pain and shortness of breath for a few weeks.'"
      ]
     },
     "execution_count": 14,
     "metadata": {},
     "output_type": "execute_result"
    }
   ],
   "source": [
    "from langchain_core.runnables import RunnablePassthrough\n",
    "\n",
    "\n",
    "chain = (\n",
    "    {\"context\": pinecone.as_retriever(), \"question\": RunnablePassthrough()}\n",
    "    | prompt\n",
    "    | model\n",
    "    | parser\n",
    ")\n",
    "\n",
    "chain.invoke(\"since how long has this been bothering the patient?\")\n"
   ]
  }
 ],
 "metadata": {
  "kernelspec": {
   "display_name": "env",
   "language": "python",
   "name": "python3"
  },
  "language_info": {
   "codemirror_mode": {
    "name": "ipython",
    "version": 3
   },
   "file_extension": ".py",
   "mimetype": "text/x-python",
   "name": "python",
   "nbconvert_exporter": "python",
   "pygments_lexer": "ipython3",
   "version": "3.10.7"
  }
 },
 "nbformat": 4,
 "nbformat_minor": 2
}
