{
 "cells": [
  {
   "cell_type": "code",
   "execution_count": 1,
   "metadata": {},
   "outputs": [
    {
     "data": {
      "text/plain": [
       "True"
      ]
     },
     "execution_count": 1,
     "metadata": {},
     "output_type": "execute_result"
    }
   ],
   "source": [
    "import os \n",
    "from dotenv import load_dotenv\n",
    "load_dotenv()"
   ]
  },
  {
   "cell_type": "code",
   "execution_count": 2,
   "metadata": {},
   "outputs": [],
   "source": [
    "os.environ['OPENAI_API_KEY']=os.getenv(\"OPENAI_API_KEY\")"
   ]
  },
  {
   "cell_type": "code",
   "execution_count": 13,
   "metadata": {},
   "outputs": [],
   "source": [
    "from llama_index.legacy import VectorStoreIndex, SimpleDirectoryReader\n",
    "documents = SimpleDirectoryReader(\"aboutGoogle\").load_data()"
   ]
  },
  {
   "cell_type": "code",
   "execution_count": 7,
   "metadata": {},
   "outputs": [
    {
     "name": "stdout",
     "output_type": "stream",
     "text": [
      "c:\\Users\\poora\\OneDrive\\Desktop\\projects\\RAG\\env\\Scripts\\python.exe\n",
      "Package                                 Version\n",
      "--------------------------------------- -----------\n",
      "aiohttp                                 3.9.3\n",
      "aiosignal                               1.3.1\n",
      "annotated-types                         0.6.0\n",
      "anyio                                   4.3.0\n",
      "asttokens                               2.4.1\n",
      "async-timeout                           4.0.3\n",
      "attrs                                   23.2.0\n",
      "beautifulsoup4                          4.12.3\n",
      "certifi                                 2024.2.2\n",
      "charset-normalizer                      3.3.2\n",
      "click                                   8.1.7\n",
      "colorama                                0.4.6\n",
      "comm                                    0.2.2\n",
      "dataclasses-json                        0.6.4\n",
      "debugpy                                 1.8.1\n",
      "decorator                               5.1.1\n",
      "Deprecated                              1.2.14\n",
      "dirtyjson                               1.0.8\n",
      "distro                                  1.9.0\n",
      "exceptiongroup                          1.2.0\n",
      "executing                               2.0.1\n",
      "frozenlist                              1.4.1\n",
      "fsspec                                  2024.3.1\n",
      "greenlet                                3.0.3\n",
      "h11                                     0.14.0\n",
      "httpcore                                1.0.5\n",
      "httpx                                   0.27.0\n",
      "idna                                    3.6\n",
      "ipykernel                               6.29.4\n",
      "ipython                                 8.23.0\n",
      "jedi                                    0.19.1\n",
      "joblib                                  1.4.0\n",
      "jupyter_client                          8.6.1\n",
      "jupyter_core                            5.7.2\n",
      "llama-index                             0.10.27\n",
      "llama-index-agent-openai                0.2.2\n",
      "llama-index-cli                         0.1.11\n",
      "llama-index-core                        0.10.27\n",
      "llama-index-embeddings-openai           0.1.7\n",
      "llama-index-indices-managed-llama-cloud 0.1.5\n",
      "llama-index-legacy                      0.9.48\n",
      "llama-index-llms-openai                 0.1.14\n",
      "llama-index-multi-modal-llms-openai     0.1.4\n",
      "llama-index-program-openai              0.1.5\n",
      "llama-index-question-gen-openai         0.1.3\n",
      "llama-index-readers-file                0.1.15\n",
      "llama-index-readers-llama-parse         0.1.4\n",
      "llama-parse                             0.4.0\n",
      "llamaindex-py-client                    0.1.16\n",
      "marshmallow                             3.21.1\n",
      "matplotlib-inline                       0.1.6\n",
      "multidict                               6.0.5\n",
      "mypy-extensions                         1.0.0\n",
      "nest-asyncio                            1.6.0\n",
      "networkx                                3.3\n",
      "nltk                                    3.8.1\n",
      "numpy                                   1.26.4\n",
      "openai                                  1.16.2\n",
      "packaging                               24.0\n",
      "pandas                                  2.2.1\n",
      "parso                                   0.8.4\n",
      "pillow                                  10.3.0\n",
      "pip                                     22.2.2\n",
      "platformdirs                            4.2.0\n",
      "prompt-toolkit                          3.0.43\n",
      "psutil                                  5.9.8\n",
      "pure-eval                               0.2.2\n",
      "pydantic                                2.6.4\n",
      "pydantic_core                           2.16.3\n",
      "Pygments                                2.17.2\n",
      "PyMuPDF                                 1.24.1\n",
      "PyMuPDFb                                1.24.1\n",
      "pypdf                                   4.2.0\n",
      "python-dateutil                         2.9.0.post0\n",
      "python-dotenv                           1.0.1\n",
      "pytz                                    2024.1\n",
      "pywin32                                 306\n",
      "PyYAML                                  6.0.1\n",
      "pyzmq                                   25.1.2\n",
      "regex                                   2023.12.25\n",
      "requests                                2.31.0\n",
      "setuptools                              63.2.0\n",
      "six                                     1.16.0\n",
      "sniffio                                 1.3.1\n",
      "soupsieve                               2.5\n",
      "SQLAlchemy                              2.0.29\n",
      "stack-data                              0.6.3\n",
      "striprtf                                0.0.26\n",
      "tenacity                                8.2.3\n",
      "tiktoken                                0.6.0\n",
      "tornado                                 6.4\n",
      "tqdm                                    4.66.2\n",
      "traitlets                               5.14.2\n",
      "typing_extensions                       4.11.0\n",
      "typing-inspect                          0.9.0\n",
      "tzdata                                  2024.1\n",
      "urllib3                                 2.2.1\n",
      "wcwidth                                 0.2.13\n",
      "wrapt                                   1.16.0\n",
      "yarl                                    1.9.4\n"
     ]
    },
    {
     "name": "stderr",
     "output_type": "stream",
     "text": [
      "\n",
      "[notice] A new release of pip available: 22.2.2 -> 24.0\n",
      "[notice] To update, run: python.exe -m pip install --upgrade pip\n"
     ]
    }
   ],
   "source": [
    "import sys\n",
    "print(sys.executable)\n",
    "!pip list"
   ]
  },
  {
   "cell_type": "code",
   "execution_count": 14,
   "metadata": {},
   "outputs": [
    {
     "data": {
      "text/plain": [
       "[Document(id_='3bf7f3dc-c4db-4d72-a796-c2bd3fc755b6', embedding=None, metadata={'file_path': 'aboutSwiggy\\\\swiggy_info.txt', 'file_name': 'swiggy_info.txt', 'file_type': 'text/plain', 'file_size': 18538, 'creation_date': '2024-04-16', 'last_modified_date': '2024-04-16', 'last_accessed_date': '2024-04-16'}, excluded_embed_metadata_keys=['file_name', 'file_type', 'file_size', 'creation_date', 'last_modified_date', 'last_accessed_date'], excluded_llm_metadata_keys=['file_name', 'file_type', 'file_size', 'creation_date', 'last_modified_date', 'last_accessed_date'], relationships={}, text='Swiggy is India’s largest online food item ordering & delivery chain, it also tops the chart of India’s Unicorn startup lists. It’s a Bangalore-based startup started in 2014, and as of now, it’s expanded to more than 100 Indian cities. Swiggy propelled quick pick-and-drop food delivery applications to make the life of people simpler. It gives a single window to request from an extensive variety of restaurants along with an entire food entering and conveyance arrangement that connects neighbourhood eateries with foodies.\\n\\nSwiggy came into existence in the year 2014 when two BITS Pilani graduates, Sriharsha Majety and Nandan Reddy came up with the concept ‘Hyper-local food delivery’. They got acquainted with Rahul Jaimini, who rejuvenated this vision with a principle site.\\n\\nIn August 2014, Swiggy started activities by joining a couple of eateries in the city of Koramangala in Bengaluru. Following that, they started conveying food to their clients in just 40 minutes.\\n\\nSoon after this, in May 2015, Swiggy raised its initial round of financing and came up with the application. Through this innovative app, one can get incredible food right to their doorstep and evolve their living standard.\\n\\nNow, Swiggy is getting almost 5 Million traffic per month organically with more than 6.5 thousand backlinks. (As per Ahrefs.com)\\n\\nHere is the organic traffic growth chart of Swiggy since January 2017.\\n\\nAs the food ordering and delivering food giants, they are now growing more digitally by launching various platforms and increasing their services because of conditions like “ when you don’t want to go out to the restaurant, then they bring the restaurant to you.\\n\\nSwiggy has multiple offerings and services for its clients- Swiggy Pop, a single-serve meal delivery service in 30-35 minutes. A selection of items like Indian Thalis, bowl meals, biryanis, burgers, and Asian combos is included in the Swiggy POP menu. All the single-serve meals that come between ranges Rs.99-200 will be delivered in a short time.\\n\\nThe other categories of services that come under Swiggy are Swiggy Cloud, the cloud kitchen service, and Swiggy Stores.\\n\\nRecently, Swiggy has just launched a platform for partners known as ‘Swiggy Partners’ where they can request for the premium packaging material. It will help them get the service at a reasonable price and will ensure a better customer experience.\\n\\nThe start-up initially started with delivering basic food items and perishables from nearby stores. In September 2019, it propelled a new service ‘Swiggy Go’ (very Similar to the Dunzo Business Model) which is used to pick and drop a wide array of items such as clothing, forgotten keys, documents, or deliveries to business persons and other customers. Swiggy Go is currently accessible just in Bangalore, however, said it will expand the service in more than 300 urban cities in a year or so.\\n\\nIn 2015, Swiggy started pulling investments from various organizations. The very first investment was by Accel and SAIF Partners which is $2 million. In the following year, Swiggy managed to raise $15 million from new financial specialists, Bessemer Venture Partners and Harmony Partners.\\n\\nIn the next year 2017, Swiggy raised an additional $80 million from Prosus & Naspers and again $100 million from Prosus & Naspers in 2018.\\n\\nIn the year 2018, they raised a funding of $210 million from DST Global, Prosus & Naspers. By investing a $1 Billion by naspers with the total stake of 40.6% of the whole in Swiggy, and become the largest stakeholder in Swiggy.\\n\\nRecently in 6 April, 2020, they received the $43 million in series-I round funding.\\n\\nSwiggy is growing its business at a rapid scale and the revenue generation model of the company is simultaneously expanding.\\n\\nDelivery Charges: The main sort of income stream Swiggy acquired is from its customers. The company collects delivery charges from customers on the order that costs less than their minimum order of Rs. 250. A charge of 20 to 40 rupees is charged on per order.\\n\\nCommissions: Swiggy acquires another major part of the revenue stream from commissions. It collects commissions from restaurants to generate sales leads and to deliver their food items through Swiggy’s application. Restaurants have to pay 15% to 25% on every order placed from Swiggy’s site.\\n\\nAdvertisement: Swiggy also procures advertising income in different ways. It shows advertisements of different restaurants on its app and charges address cost to get them promoted in various regions. Also, some restaurants and cafes pay premium rates to Swiggy to get prioritised on the app from the list of accessible eateries.\\n\\nSwiggy Access: The start-up has come up with the most innovative idea i.e. cloud kitchen idea. It gives its restaurant partners a ready-to-use kitchen area in those zones where they don’t work. It brings food closer to its customers and empowers restaurants to set up their kitchen in new areas. Swiggy expects to get 25% of income from Swiggy access facility and incorporated 30 partners with 36 kitchens.\\n\\nSwiggy earns subsidiary income as well by collaborating with different financial institutions such as Citibank, HSBC and ICICI Bank. It gives both the parties mutual benefit. It permits clients to get a few charge card offers from these organizations.\\n\\nSwiggy has joined hands with the fastest-growing fast-food outlet, Burger King, Goli Vada Pav, Cafe Coffee Day for giving delivery services.\\n\\nIt additionally has cooperated with Google Local Guide to encourage client reviews and with Sodexo to empower clients for paying through metal cards.\\n\\nIt banded together with Indifi Technologies to encourage a financing program for restaurant partners.Swiggy launched its own payment wallet ‘Swiggy Money’ in partnership with ICICI bank. The customers who don’t possess a bank account with ICICI can also avail the benefits of these services.\\n\\nSwiggy initiated a new promotional campaign and explored a novel food combo. The campaign has a slogan ‘Ghar ka Khana, Saath Mein Thoda Swiggy’! The company draws this idea by observing that Indian purchasers like to supplement their home-prepared the food with some ordered dishes from Swiggy.\\n\\n\\n\\nSwiggy makes the customer eating experience delightful where shoppers can complement their preferred food with the food they love ordering from outside. The Start-up advertised the campaign through TV plugs and digital platforms and tried to connect emotionally with their customers.\\n\\nSwiggy currently stands with a net worth of 3.6 billion at the end of the financial year 2020.From 2019, Swiggy underwent its expansion from 17 cities to 245 locations and is planning to expand it furthermore.\\n\\nAnother vision of the company is the transformation into an AI (Artificial Intelligence) first product.\\n\\nSwiggy recently acquired the Kint.io on 4 February, 2019,\\n\\nSwiggy also made the two investments in the Fingerlix with the total amount of $143 million.\\n\\nYes, Swiggy is an Indian brand started in 2014 from Bangalore.\\n\\nSwiggy Tagline: Swiggy Karo, Phir Jo Chahe Karo!\\n\\nSwiggy current valuation is more than 8.54 billion US dollars.\\n\\nRead More:\\n\\nGet the latest insights directly to your inbox!\\n\\nDesign & Developed with ♥ by Aryan Jalan & Team.\\n\\n\\n\\nThe Associate Software Developer (ASDE) Role:\\n\\nAt Swiggy, it has always been our mantra to raise the bar in tech talent. And it is with the same spirit that we bring an industry pivoting role in the developer talent segment — Associate Software Development Engineer (aSDE). \\n\\nAs an aSDE, you will be uniquely positioned at the intersection of product development and technology, with the aim to revolutionise the way we approach software engineering, and in turn enhance both collaboration and innovation practices.\\n\\nTo ensure you are set up for success from the very beginning, we have introduced a customised training and immersion programme, tailor-made to the ever evolving need of the business and technology. \\n\\nThis comprehensive programme will cover a spectrum of technical concepts, language skills and real world problem solving case studies. We believe this will provide you with a holistic understanding of the responsibilities associated with the role and will propel you in your developer journey far beyond.\\n\\nAll of this comes with the added benefit of working at Swiggy, where we build innovative solutions to deliver unparalleled convenience to urban consumers. Furthermore, every bit of your work at Swiggy will help elevate the lives of our users across India.\\n\\n\\n\\nWhat work looks like at Swiggy\\n\\nThe years 2020 and 2021 have been nothing short of a rollercoaster ride. Both people and organizations have adapted in different ways to a new environment, while ensuring safety and productivity. At Swiggy, we learnt valuable lessons and have not only successfully coped with the novel ways of working, but also pushed our boundaries to keep our customers delighted during the most uncertain and difficult of times.  \\n\\nWhile our business continues to efficiently operate and grow amid these changes, we asked ourselves  ‘What would the future of work look like for our employees?’. Two things stood clear, a one-size-fits-all approach doesn’t work for everyone and in-office attendance is not a necessity nor a guarantee of increased productivity. \\n\\nFor instance, some of our best work got done during the pandemic including the birth of Swiggy Instamart, our quick commerce grocery delivery service and Swiggy Genie, our pick up and drop service. We’ve been able to achieve this with Swiggsters working out of 487 cities in 27 States and 4 UTs across the country. \\n\\nLearnings from an employee-centric process\\n\\nAs we spoke to our employees across different roles and levels, about 1,600 of them, spread across 20 locations, we began to understand their preferences and perceptions. Our intent was to truly empower them in this decision making process. Findings of our study made a lot of things clear-\\n\\n\\nThe concept of “office” itself had evolved dramatically both for employees and the organization.\\n\\nFlexibility can bring the teams closer and make employees more fulfilled. In the two years that employees have been working from anywhere (WFA) we have introduced paid time off, no meeting hours, four-day work weeks (implemented during May 2021 as a pilot), and many such need-based initiatives, which have brought about a sense of belonging at Swiggy. \\n\\nMental health must be given more importance. Most employees greatly value the flexibility that the pandemic has brought with it. Whether it was the JOMO (Joy of Missing Out) on traffic or being by the side of a parent or family member, time with loved ones is deeply cherished. Families made them feel more fulfilled and do better at work.\\n\\nSwiggy’s WorkNext Policy – Flexibility makes us fitter\\n\\n\\nSwiggy has a diverse workforce from engineers who build products and solve complex customer challenges to our sales and support teams that keep Swiggy going. Guided by our commitment to ensure the holistic well-being of our employees, we rolled out a hybrid work policy in November 2021. Since then, we are excited to see how Swiggsters are leveraging this flexibility to build fulfilling careers while balancing their personal life with great ease.\\n\\nAt the core of our Future of Work is Flexibility. Our focus was to enable employees with as much flexibility in their work life within the contours of their job and business unit they are a part of. We observed global and local talent  trends while also having our ears to the ground listening to the pulse from employees, managers and leaders. \\n\\nWe realized that flexibility was a spectrum based on the job nature and the business needs and the key challenge was balancing this with employee needs. We wanted to enable employees while empowering businesses.  We also had to unlearn a lot and adopt new mental models while stepping into the future. Our Value of ‘Always be curious and always be learning’ helped us in this journey. \\n\\nSwiggy’s Future of Work policy is structured taking into account the different roles and business needs across the organisation and empowers managers and leaders to work along with their teams and choose what works best for them.\\n\\nEmployees will come to the office twice or thrice a week at their base location and work remotely for the remaining days. Eg: Partner facing roles\\n\\nEmployees will have the freedom to work remotely all through the year. These employees, who form a large majority, will come together in their base location for a week, once every quarter. Eg: All Corporate, Central Business Functions and Technology teams\\n\\nEmployees will work fulltime from their base location. Eg- Fleet managers\\n\\nIn the last two years, several employees have decided to completely relocate, some of them choosing to remain 100% remote permanently. We will continue to consider such requests if team dynamics and business goals are unaffected. This also means that global talent can now explore Swiggy as their potential employer. \\n\\n\\nWith this future of work promise, we will continue to actively invest in reimagining employee experience, innovations in work and workplace experience to build a truly remote first organization. Our focus is on purpose, passion & play – building a culture with a strong purpose to make a difference, passion to master the craft while nurturing a strong innovation mindset. \\n\\nTo keep track of the latest roles that Swiggy has to offer, visit this link – https://careers.swiggy.com/\\n\\nSwiggster Stories – What work looks for me now!\\n\\nSharmishtha works in the Product team at Swiggy and the new policy has allowed her to truly work from anywhere. She’s currently on a ‘workation’ in Europe.\\n\\n\\nSandeep Singh leads Procurement as part of the Supply Chain team at Swiggy and oversees a complex system with a team of reportees. Due to the nature of his role, he comes to the office twice a week and works from home for the remaining days.\\n\\n\\nAbhinav Litkar is a Senior Manager in the Data Sciences team at Swiggy. Saving valuable time on his daily commute to office, Abhinav is meaningfully spending his spare time pursuing his hobbies. He is eagerly looking forward to meeting his colleagues during the in-person regrouping scheduled once every quarter.\\n\\n\\nLiving with the Pandemic\\n\\nHealth experts have cautioned against dropping our guard too fast. We are acutely aware that each of us is responsible to demonstrate Covid-appropriate behavior. Swiggy follows strict Covid protocols including scheduled office sanitization, temperature checks, masking and more. \\n\\nWe conduct regular audits on these safety protocols and constantly remind our employees about the little things they should not forget.\\n\\n\\n\\nSwiggy’s new policy enables employees to pick up gigs outside the company\\n\\nWith the latest policy employees can now pick up projects beyond work that add to their professional and mental well-being.\\n\\nWhat if we told you that you can do your full time job at Swiggy and pick up additional projects outside work, and the company will support you to engage in them? Well, that’s exactly what Swiggy’s latest employee-first — ‘Moonlighting Policy’ — is all about.\\n\\nSwiggy trusts that its employees can excel in their performance, while picking up interesting projects outside work. Which is why the team came up with the policy.\\n\\nYamini Koganti, AVP – HRBP, who is reimagining Swiggy’s Benefits offerings, worked on this policy since its conception. Explaining the need, she says, “Swiggy has always strived to create employee-first benefits. Over the last two years, we observed that some of our employees were getting opportunities to render gig services, leveraging their professional skills outside work. Some even discovered new hobbies during the lockdown and have been keen to pursue them now because they find time due to remote-first ways of working. To solve this need of employees we came up with an  industry-first Moonlighting policy. Yamini says,\\n\\nWith this policy, our goal is to enable employees to pursue their passions for economic interests alongside their  full-time employment. This is yet another step towards building a world class ‘remote-first’ organization.”\\n\\nTo be employee-centric, the team also wanted to design the policy mechanisms in a way that makes it simpler for an employee to undertake these gigs. “With that in mind, the projects have been divided into two buckets A & B. List A projects are high-sensitive, leveraging professional know-how. List B are projects that fall under the space of interests and hobbies, that are non-professional in nature,” she says. \\n\\nAccording to the policy, projects that are picked up for economic consideration and/or fall under List A will need to be declared. The employee can pursue these projects once they are approved by Swiggy.\\n\\n“Any project or activity that is taken up outside office hours or on the weekend, without affecting productivity, and does not have a conflict of interest, can be picked up by the employees. The employee will have to declare a few necessary details so that the team can greenlight the project,” she says.\\n\\nCurrently, the HR team has 10 projects lined up for approval, with Goda Doreswamy, AVP Data Science, being one of the first to get her project approved. Speaking about the policy and how it helps her, Goda says, “Moonlighting is one of the most interesting policies of Swiggy, all of which are employee-centric. This enables the overall growth of the employee and helps them pursue their passion outside Swiggy.”\\n\\n\\n\\nOur Culture and Benefits for the employees makes it one of the best places to work.\\n\\nSwiggy is an equal-opportunity employer that offers a variety of employee-centric benefits such as competitive salaries, comprehensive health benefits, and exciting equity opportunities. With this in practice, we like to empower and motivate our employees to boost their efforts towards realizing Swiggy’s vision, ‘To elevate the quality of life for the urban consumer with unparalleled convenience.’\\n\\nWe at Swiggy Offer flexible schedule, Upskilling program, Hybrid remote Work Options, Opt for Salary Advance, Free holistic Wellness Offerings, Relocation Assistance, Inclusive Parenthood Support, Moonlighting Policy.', start_char_idx=None, end_char_idx=None, text_template='{metadata_str}\\n\\n{content}', metadata_template='{key}: {value}', metadata_seperator='\\n')]"
      ]
     },
     "execution_count": 14,
     "metadata": {},
     "output_type": "execute_result"
    }
   ],
   "source": [
    "documents"
   ]
  },
  {
   "cell_type": "code",
   "execution_count": 15,
   "metadata": {},
   "outputs": [
    {
     "name": "stderr",
     "output_type": "stream",
     "text": [
      "c:\\Users\\poora\\OneDrive\\Desktop\\projects\\RAG\\env\\lib\\site-packages\\tqdm\\auto.py:21: TqdmWarning: IProgress not found. Please update jupyter and ipywidgets. See https://ipywidgets.readthedocs.io/en/stable/user_install.html\n",
      "  from .autonotebook import tqdm as notebook_tqdm\n",
      "Parsing nodes: 100%|██████████| 1/1 [00:00<00:00,  3.91it/s]\n",
      "Generating embeddings: 100%|██████████| 5/5 [00:01<00:00,  3.61it/s]\n"
     ]
    }
   ],
   "source": [
    "index = VectorStoreIndex.from_documents(documents,show_progress=True)"
   ]
  },
  {
   "cell_type": "code",
   "execution_count": 16,
   "metadata": {},
   "outputs": [
    {
     "data": {
      "text/plain": [
       "<llama_index.legacy.indices.vector_store.base.VectorStoreIndex at 0x155f8cd2380>"
      ]
     },
     "execution_count": 16,
     "metadata": {},
     "output_type": "execute_result"
    }
   ],
   "source": [
    "index"
   ]
  },
  {
   "cell_type": "code",
   "execution_count": 12,
   "metadata": {},
   "outputs": [],
   "source": [
    "query_engine = index.as_query_engine()"
   ]
  },
  {
   "cell_type": "code",
   "execution_count": 13,
   "metadata": {},
   "outputs": [
    {
     "data": {
      "text/plain": [
       "<llama_index.legacy.query_engine.retriever_query_engine.RetrieverQueryEngine at 0x23e67f92b00>"
      ]
     },
     "execution_count": 13,
     "metadata": {},
     "output_type": "execute_result"
    }
   ],
   "source": [
    "query_engine"
   ]
  },
  {
   "cell_type": "code",
   "execution_count": 5,
   "metadata": {},
   "outputs": [],
   "source": [
    "from llama_index.core import Settings"
   ]
  },
  {
   "cell_type": "code",
   "execution_count": 6,
   "metadata": {},
   "outputs": [],
   "source": [
    "from llama_index.legacy import  StorageContext"
   ]
  },
  {
   "cell_type": "code",
   "execution_count": 7,
   "metadata": {},
   "outputs": [],
   "source": [
    "from llama_index.legacy import load_index_from_storage"
   ]
  },
  {
   "cell_type": "code",
   "execution_count": null,
   "metadata": {},
   "outputs": [],
   "source": [
    "PERSIST_DIR = \"./storage\"\n",
    "if not os.path.exists(PERSIST_DIR):\n",
    "    documents = SimpleDirectoryReader(\"aboutGoogle\").load_data()\n",
    "    index = VectorStoreIndex.from_documents(documents)\n",
    "    index.storage_context.persist(persist_dir=PERSIST_DIR)\n",
    "    \n",
    "else:\n",
    "    storage_context = StorageContext.from_defaults(persist_dir=PERSIST_DIR)\n",
    "    index = load_index_from_storage(storage_context)\n",
    "    \n",
    "query_engine = index.as_query_engine() # print single response\n",
    "response = query_engine.query(\"Can you give a little information about Google's culture and values\")\n",
    "print(response)"
   ]
  },
  {
   "cell_type": "code",
   "execution_count": null,
   "metadata": {},
   "outputs": [],
   "source": [
    "# top k retrieved responses\n",
    "\n",
    "from llama_index.legacy.retrievers import VectorIndexRetriever\n",
    "from llama_index.legacy.query_engine import RetrieverQueryEngine\n",
    "from llama_index.legacy.postprocessor import SimilarityPostprocessor\n",
    "\n",
    "retriever = VectorIndexRetriever(index=index,similarity_top_k=5)\n",
    "postprocessor = SimilarityPostprocessor(similarity_cutoff=0.80)\n",
    "query_engine = RetrieverQueryEngine(retriever=retriever, node_postprocessors=[postprocessor])\n",
    "\n",
    "response = query_engine.query(\"what challenges a fresher might face at Google?\")\n",
    "from llama_index.legacy.response.pprint_utils import pprint_response\n",
    "pprint_response(response,show_source=True)\n",
    "print(response)"
   ]
  },
  {
   "cell_type": "code",
   "execution_count": null,
   "metadata": {},
   "outputs": [],
   "source": [
    "chat_engine = index.as_chat_engine()\n",
    "streaming_response = chat_engine.stream_chat(\"what challenges a fresher might face at Google?\")\n",
    "for token in streaming_response.response_gen:\n",
    "    print(token, end=\"\")"
   ]
  }
 ],
 "metadata": {
  "kernelspec": {
   "display_name": "env",
   "language": "python",
   "name": "python3"
  },
  "language_info": {
   "codemirror_mode": {
    "name": "ipython",
    "version": 3
   },
   "file_extension": ".py",
   "mimetype": "text/x-python",
   "name": "python",
   "nbconvert_exporter": "python",
   "pygments_lexer": "ipython3",
   "version": "3.10.7"
  }
 },
 "nbformat": 4,
 "nbformat_minor": 2
}
